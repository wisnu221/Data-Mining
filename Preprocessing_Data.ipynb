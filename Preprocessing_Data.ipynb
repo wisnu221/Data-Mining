{
  "nbformat": 4,
  "nbformat_minor": 0,
  "metadata": {
    "colab": {
      "provenance": [],
      "authorship_tag": "ABX9TyO32RLUjLxXFaqK/Yg0uinj",
      "include_colab_link": true
    },
    "kernelspec": {
      "name": "python3",
      "display_name": "Python 3"
    },
    "language_info": {
      "name": "python"
    }
  },
  "cells": [
    {
      "cell_type": "markdown",
      "metadata": {
        "id": "view-in-github",
        "colab_type": "text"
      },
      "source": [
        "<a href=\"https://colab.research.google.com/github/wisnu221/Data-Mining/blob/main/Preprocessing_Data.ipynb\" target=\"_parent\"><img src=\"https://colab.research.google.com/assets/colab-badge.svg\" alt=\"Open In Colab\"/></a>"
      ]
    },
    {
      "cell_type": "code",
      "execution_count": 4,
      "metadata": {
        "id": "KW9Ay3THTSIT"
      },
      "outputs": [],
      "source": [
        "import pandas as pd\n",
        "import numpy as np\n",
        "from sklearn.model_selection import train_test_split\n",
        "from sklearn.preprocessing import StandardScaler"
      ]
    },
    {
      "cell_type": "code",
      "source": [
        "try:\n",
        "    df = pd.read_csv('diabetes.csv')\n",
        "    print(\"Dataset berhasil dimuat.\")\n",
        "    print(\"Lima baris pertama dari dataset:\")\n",
        "    print(df.head())\n",
        "except FileNotFoundError:\n",
        "    print(\"Error: File 'diabetes.csv' tidak ditemukan.\")\n",
        "    print(\"Silakan unggah file tersebut ke sesi Colab Anda menggunakan panel 'Files' di sebelah kiri.\")\n"
      ],
      "metadata": {
        "colab": {
          "base_uri": "https://localhost:8080/"
        },
        "id": "vFnpLkV1XRrO",
        "outputId": "3d3d7ed5-aad2-4b67-c6f3-672f1b2a1feb"
      },
      "execution_count": 5,
      "outputs": [
        {
          "output_type": "stream",
          "name": "stdout",
          "text": [
            "Dataset berhasil dimuat.\n",
            "Lima baris pertama dari dataset:\n",
            "   Pregnancies  Glucose  BloodPressure  SkinThickness  Insulin   BMI  \\\n",
            "0            6      148             72             35        0  33.6   \n",
            "1            1       85             66             29        0  26.6   \n",
            "2            8      183             64              0        0  23.3   \n",
            "3            1       89             66             23       94  28.1   \n",
            "4            0      137             40             35      168  43.1   \n",
            "\n",
            "   DiabetesPedigreeFunction  Age  Outcome  \n",
            "0                     0.627   50        1  \n",
            "1                     0.351   31        0  \n",
            "2                     0.672   32        1  \n",
            "3                     0.167   21        0  \n",
            "4                     2.288   33        1  \n"
          ]
        }
      ]
    },
    {
      "cell_type": "code",
      "source": [
        "print(\"\\nInformasi ringkas mengenai dataset:\")\n",
        "df.info()\n",
        "\n",
        "print(\"\\nStatistik deskriptif dari dataset:\")\n",
        "print(df.describe())"
      ],
      "metadata": {
        "colab": {
          "base_uri": "https://localhost:8080/"
        },
        "id": "sZ3vVKVsXYSk",
        "outputId": "fe46eff9-562b-43f3-931d-c79018a1e1ba"
      },
      "execution_count": 6,
      "outputs": [
        {
          "output_type": "stream",
          "name": "stdout",
          "text": [
            "\n",
            "Informasi ringkas mengenai dataset:\n",
            "<class 'pandas.core.frame.DataFrame'>\n",
            "RangeIndex: 768 entries, 0 to 767\n",
            "Data columns (total 9 columns):\n",
            " #   Column                    Non-Null Count  Dtype  \n",
            "---  ------                    --------------  -----  \n",
            " 0   Pregnancies               768 non-null    int64  \n",
            " 1   Glucose                   768 non-null    int64  \n",
            " 2   BloodPressure             768 non-null    int64  \n",
            " 3   SkinThickness             768 non-null    int64  \n",
            " 4   Insulin                   768 non-null    int64  \n",
            " 5   BMI                       768 non-null    float64\n",
            " 6   DiabetesPedigreeFunction  768 non-null    float64\n",
            " 7   Age                       768 non-null    int64  \n",
            " 8   Outcome                   768 non-null    int64  \n",
            "dtypes: float64(2), int64(7)\n",
            "memory usage: 54.1 KB\n",
            "\n",
            "Statistik deskriptif dari dataset:\n",
            "       Pregnancies     Glucose  BloodPressure  SkinThickness     Insulin  \\\n",
            "count   768.000000  768.000000     768.000000     768.000000  768.000000   \n",
            "mean      3.845052  120.894531      69.105469      20.536458   79.799479   \n",
            "std       3.369578   31.972618      19.355807      15.952218  115.244002   \n",
            "min       0.000000    0.000000       0.000000       0.000000    0.000000   \n",
            "25%       1.000000   99.000000      62.000000       0.000000    0.000000   \n",
            "50%       3.000000  117.000000      72.000000      23.000000   30.500000   \n",
            "75%       6.000000  140.250000      80.000000      32.000000  127.250000   \n",
            "max      17.000000  199.000000     122.000000      99.000000  846.000000   \n",
            "\n",
            "              BMI  DiabetesPedigreeFunction         Age     Outcome  \n",
            "count  768.000000                768.000000  768.000000  768.000000  \n",
            "mean    31.992578                  0.471876   33.240885    0.348958  \n",
            "std      7.884160                  0.331329   11.760232    0.476951  \n",
            "min      0.000000                  0.078000   21.000000    0.000000  \n",
            "25%     27.300000                  0.243750   24.000000    0.000000  \n",
            "50%     32.000000                  0.372500   29.000000    0.000000  \n",
            "75%     36.600000                  0.626250   41.000000    1.000000  \n",
            "max     67.100000                  2.420000   81.000000    1.000000  \n"
          ]
        }
      ]
    },
    {
      "cell_type": "code",
      "source": [
        "cols_to_clean = ['Glucose', 'BloodPressure', 'SkinThickness', 'Insulin', 'BMI']\n",
        "\n",
        "for col in cols_to_clean:\n",
        "    df[col] = df[col].replace(0, np.nan)\n",
        "\n",
        "for col in cols_to_clean:\n",
        "    df[col].fillna(df[col].median(), inplace=True)\n",
        "\n",
        "print(\"\\nStatistik deskriptif setelah menangani nilai 0:\")\n",
        "print(df.describe())"
      ],
      "metadata": {
        "colab": {
          "base_uri": "https://localhost:8080/"
        },
        "id": "7-FX9b2tXfgE",
        "outputId": "c9c1b2f8-4615-4e4e-ddbc-2b6d95db2e2a"
      },
      "execution_count": 7,
      "outputs": [
        {
          "output_type": "stream",
          "name": "stdout",
          "text": [
            "\n",
            "Statistik deskriptif setelah menangani nilai 0:\n",
            "       Pregnancies     Glucose  BloodPressure  SkinThickness     Insulin  \\\n",
            "count   768.000000  768.000000     768.000000     768.000000  768.000000   \n",
            "mean      3.845052  121.656250      72.386719      29.108073  140.671875   \n",
            "std       3.369578   30.438286      12.096642       8.791221   86.383060   \n",
            "min       0.000000   44.000000      24.000000       7.000000   14.000000   \n",
            "25%       1.000000   99.750000      64.000000      25.000000  121.500000   \n",
            "50%       3.000000  117.000000      72.000000      29.000000  125.000000   \n",
            "75%       6.000000  140.250000      80.000000      32.000000  127.250000   \n",
            "max      17.000000  199.000000     122.000000      99.000000  846.000000   \n",
            "\n",
            "              BMI  DiabetesPedigreeFunction         Age     Outcome  \n",
            "count  768.000000                768.000000  768.000000  768.000000  \n",
            "mean    32.455208                  0.471876   33.240885    0.348958  \n",
            "std      6.875177                  0.331329   11.760232    0.476951  \n",
            "min     18.200000                  0.078000   21.000000    0.000000  \n",
            "25%     27.500000                  0.243750   24.000000    0.000000  \n",
            "50%     32.300000                  0.372500   29.000000    0.000000  \n",
            "75%     36.600000                  0.626250   41.000000    1.000000  \n",
            "max     67.100000                  2.420000   81.000000    1.000000  \n"
          ]
        },
        {
          "output_type": "stream",
          "name": "stderr",
          "text": [
            "/tmp/ipython-input-81357475.py:7: FutureWarning: A value is trying to be set on a copy of a DataFrame or Series through chained assignment using an inplace method.\n",
            "The behavior will change in pandas 3.0. This inplace method will never work because the intermediate object on which we are setting values always behaves as a copy.\n",
            "\n",
            "For example, when doing 'df[col].method(value, inplace=True)', try using 'df.method({col: value}, inplace=True)' or df[col] = df[col].method(value) instead, to perform the operation inplace on the original object.\n",
            "\n",
            "\n",
            "  df[col].fillna(df[col].median(), inplace=True)\n"
          ]
        }
      ]
    },
    {
      "cell_type": "code",
      "source": [
        "X = df.drop('Outcome', axis=1)\n",
        "# y hanya berisi kolom 'Outcome'\n",
        "y = df['Outcome']\n",
        "\n",
        "print(\"\\nBentuk data Fitur (X):\", X.shape)\n",
        "print(\"Bentuk data Target (y):\", y.shape)"
      ],
      "metadata": {
        "colab": {
          "base_uri": "https://localhost:8080/"
        },
        "id": "GgbAeZ75XndH",
        "outputId": "70ce665e-23d6-4ef8-c9a8-cfd773da12a3"
      },
      "execution_count": 8,
      "outputs": [
        {
          "output_type": "stream",
          "name": "stdout",
          "text": [
            "\n",
            "Bentuk data Fitur (X): (768, 8)\n",
            "Bentuk data Target (y): (768,)\n"
          ]
        }
      ]
    },
    {
      "cell_type": "code",
      "source": [
        "X_train, X_test, y_train, y_test = train_test_split(X, y, test_size=0.2, random_state=42, stratify=y)\n",
        "\n",
        "print(\"\\nUkuran data setelah dibagi:\")\n",
        "print(\"X_train shape:\", X_train.shape)\n",
        "print(\"X_test shape:\", X_test.shape)\n",
        "print(\"y_train shape:\", y_train.shape)\n",
        "print(\"y_test shape:\", y_test.shape)"
      ],
      "metadata": {
        "colab": {
          "base_uri": "https://localhost:8080/"
        },
        "id": "hIO4i0D_XuIV",
        "outputId": "881da3e7-7f67-4e64-a34f-fdf4af4ae0ff"
      },
      "execution_count": 9,
      "outputs": [
        {
          "output_type": "stream",
          "name": "stdout",
          "text": [
            "\n",
            "Ukuran data setelah dibagi:\n",
            "X_train shape: (614, 8)\n",
            "X_test shape: (154, 8)\n",
            "y_train shape: (614,)\n",
            "y_test shape: (154,)\n"
          ]
        }
      ]
    },
    {
      "cell_type": "code",
      "source": [
        "scaler = StandardScaler()\n",
        "\n",
        "# Lakukan fit_transform pada data latih\n",
        "X_train_scaled = scaler.fit_transform(X_train)\n",
        "\n",
        "# Lakukan transform pada data uji (hanya transform, bukan fit_transform, untuk menghindari kebocoran data)\n",
        "X_test_scaled = scaler.transform(X_test)\n",
        "\n",
        "# Konversi kembali ke DataFrame (opsional, untuk kemudahan inspeksi)\n",
        "X_train_scaled = pd.DataFrame(X_train_scaled, columns=X.columns)\n",
        "X_test_scaled = pd.DataFrame(X_test_scaled, columns=X.columns)\n",
        "\n",
        "print(\"\\nLima baris pertama dari data latih setelah penskalaan:\")\n",
        "print(X_train_scaled.head())\n",
        "\n"
      ],
      "metadata": {
        "colab": {
          "base_uri": "https://localhost:8080/"
        },
        "id": "BG1hmCvzXzzk",
        "outputId": "fea2f880-8ea9-4241-b436-87156f78fbb3"
      },
      "execution_count": 11,
      "outputs": [
        {
          "output_type": "stream",
          "name": "stdout",
          "text": [
            "\n",
            "Lima baris pertama dari data latih setelah penskalaan:\n",
            "   Pregnancies   Glucose  BloodPressure  SkinThickness   Insulin       BMI  \\\n",
            "0    -0.851355 -1.056427      -0.826740      -1.918187 -1.203361 -0.769477   \n",
            "1     0.356576  0.144399       0.477772      -0.229874 -1.470195 -0.417498   \n",
            "2    -0.549372 -0.556083      -1.152868       1.233330 -0.555335  0.359790   \n",
            "3    -0.851355  0.811525      -1.315932      -0.004766 -0.161437 -0.402832   \n",
            "4    -1.153338 -0.889646      -0.663676       1.120776 -0.415565  1.782373   \n",
            "\n",
            "   DiabetesPedigreeFunction       Age  \n",
            "0                  0.310794 -0.792169  \n",
            "1                 -0.116439  0.561034  \n",
            "2                 -0.764862 -0.707594  \n",
            "3                  0.262314 -0.369293  \n",
            "4                 -0.337630 -0.961320  \n"
          ]
        }
      ]
    }
  ]
}